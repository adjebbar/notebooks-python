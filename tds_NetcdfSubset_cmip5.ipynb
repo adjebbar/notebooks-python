{
 "cells": [
  {
   "cell_type": "markdown",
   "metadata": {},
   "source": [
    "![logo](../../_static/images/NCI_logo.png)\n",
    "\n",
    "---------\n",
    "\n",
    "# THREDDS Data Server: Netcdf Subset Service (NCSS)\n",
    "\n",
    "\n",
    "\n",
    "### In this notebook:\n",
    "\n",
    "- Using THREDDS Web Coverage Service to request NetCDF data.\n",
    "\n",
    "\n",
    "The following material uses Coupled Model Intercomparison Project (CMIP5) collections. The CMIP5 terms of use are found [here](https://cmip.llnl.gov/cmip5/terms.html). For more information on the collection, please [click here](https://geonetwork.nci.org.au/geonetwork/srv/eng/catalog.search#/metadata/f3525_9322_8600_7716).\n",
    "\n",
    "------\n",
    "\n"
   ]
  },
  {
   "cell_type": "markdown",
   "metadata": {},
   "source": [
    "## THREDDS Netcdf Subset Service (NCSS)\n",
    "\n",
    "The Netcdf Subset Service (NCSS) is one of the data service endpoints available on many of NCI's hosted data collections. NCSS is currently available on NCI's gridded datasets and allows users to request spatial and temporal queries using longitude and latitude values directly. "
   ]
  },
  {
   "cell_type": "markdown",
   "metadata": {},
   "source": [
    "**Using Netcdf Subset interactively through THREDDS**"
   ]
  },
  {
   "cell_type": "markdown",
   "metadata": {},
   "source": [
    "Begin by navigating to the THREDDS catalog page for the selected data file (http://dapds00.nci.org.au/thredds/catalog/rr3/CMIP5/output1/CSIRO-BOM/ACCESS1-0/rcp85/mon/atmos/Amon/r1i1p1/latest/tas/catalog.html?dataset=rr3/CMIP5/output1/CSIRO-BOM/ACCESS1-0/rcp85/mon/atmos/Amon/r1i1p1/latest/tas/tas_Amon_ACCESS1-0_rcp85_r1i1p1_200601-210012.nc):\n",
    "\n",
    "![](images/ncss1_cmip5.png)\n",
    "\n",
    "Next, decide whether you want to extract a spatial subset (left/green arrow), defined by a bounding box, or a single point in space (right/red arrow), defined by a single latitude and longitude:\n",
    "\n",
    "\n",
    "![](images/ncss2_cmip5.png)\n",
    "\n",
    "Then proceed by selecting the desired variables, spatial (or lat/lon point) and temporal extents. As selections are made, the NCSS Request URL (near bottom of the page) will update with these parameters. \n",
    "\n",
    "\n",
    "![](images/ncss3_cmip5.png)\n",
    "\n",
    "\n",
    "\n",
    "Click 'Submit' and the request file should begin to download. Alternatively, the NCSS URL can be copied/pasted into a new web browser or used in workflows along with `wget` or `curl` commands. \n",
    "\n",
    "\n",
    "**Examples of different NCSS Request URLs:**\n",
    "> http://dapds00.nci.org.au/thredds/ncss/rr3/CMIP5/output1/CSIRO-BOM/ACCESS1-0/rcp85/mon/atmos/Amon/r1i1p1/latest/tas/tas_Amon_ACCESS1-0_rcp85_r1i1p1_200601-210012.nc?latitude=&longitude=&time_start=2006-01-16T12%3A00%3A00Z&time_end=2100-12-16T12%3A00%3A00Z&accept=netcdf\n",
    "\n",
    "> http://dapds00.nci.org.au/thredds/ncss/rr3/CMIP5/output1/CSIRO-BOM/ACCESS1-0/rcp85/mon/atmos/Amon/r1i1p1/latest/tas/tas_Amon_ACCESS1-0_rcp85_r1i1p1_200601-210012.nc?latitude=&longitude=&time_start=2006-01-16T12%3A00%3A00Z&time_end=2100-12-16T12%3A00%3A00Z&accept=csv\n"
   ]
  }
 ],
 "metadata": {
  "anaconda-cloud": {},
  "kernelspec": {
   "display_name": "Python 3",
   "language": "python",
   "name": "python3"
  },
  "language_info": {
   "codemirror_mode": {
    "name": "ipython",
    "version": 3
   },
   "file_extension": ".py",
   "mimetype": "text/x-python",
   "name": "python",
   "nbconvert_exporter": "python",
   "pygments_lexer": "ipython3",
   "version": "3.7.3"
  }
 },
 "nbformat": 4,
 "nbformat_minor": 1
}
