{
 "cells": [
  {
   "cell_type": "markdown",
   "metadata": {},
   "source": [
    "# Xarray Access CMIP5 Data \n",
    "\n",
    "\n",
    "In this notebook we demonstrate how to access CMIP5 data locally and remotely using Xarray.\n",
    "\n",
    "* What is Xarray\n",
    "* Remote vs. direct filesystem access\n",
    "* Build a multi-file dataset from an OpenDAP server\n",
    "* File Variables and Attributes\n",
    "\n",
    "This example uses Coupled Model Intercomparison Project (CMIP5) collections. For more information, please visit [data catalogue](https://geonetwork.nci.org.au/geonetwork/srv/eng/catalog.search#/metadata/f3525_9322_8600_7716) and [terms of use](https://cmip.llnl.gov/cmip5/terms.html).\n",
    "   \n",
    "---------"
   ]
  },
  {
   "cell_type": "markdown",
   "metadata": {},
   "source": [
    "- Authors: NCI Virtual Research Environment Team\n",
    "- Keywords: CMIP, Xarray, NetCDF\n",
    "- Create Date: 2019-Jun; Update Date: 2020-Apr"
   ]
  },
  {
   "cell_type": "markdown",
   "metadata": {},
   "source": [
    "### Prerequisite\n",
    "\n",
    "To run this notebook on Gadi/VDI, or on your local computer. The following modules are needed:\n",
    "\n",
    "* Xarray\n",
    "* netcdf-python\n",
    "\n",
    "You also need to be a member of the following data project to access the data or through [NCI's data service](http://dapds00.nci.org.au/thredds/catalog.html):\n",
    "* rr3\n",
    "\n",
    "You can request to join the project through [NCI's user account management system](https://my.nci.org.au). "
   ]
  },
  {
   "cell_type": "markdown",
   "metadata": {},
   "source": [
    "### Xarray\n",
    "\n",
    "Xarray builds upon and extends the strengths of pandas and numpy. Numpy provides the structure and core for working with multi-dimensional arrays while pandas integrates its indexing and dataframe type capabilities. Xarray is actively developed by the climate science community and a useful tool for analysis. For more information on the developments being undertaken (along with other related projects) see the Pangeo community: https://pangeo.io/\n",
    " \n",
    "We will use xarray to open the CMIP5 file defined below. Opening a file with xarray creates an xarray.Dataset. A 'Dataset' is a collection of multiple variables. A DataArray on the other hand is a single multi-dimensional variable and the coordinates.\n",
    " \n",
    "xarray always loads netCDF data 'lazily', this means that data can be manipulated, sliced and subset without loading array values into memory. Data is loaded into memory when the load( ) command is applied or when a computaiton is performed on the data.\n",
    " \n",
    "xarray is designed for use with multidimensional datasets and is particularly useful for climate data on multidimensional grids with dimensions such as lat, lon, depth and time"
   ]
  },
  {
   "cell_type": "markdown",
   "metadata": {},
   "source": [
    "#### Import the xarray and netCDF modules"
   ]
  },
  {
   "cell_type": "code",
   "execution_count": 1,
   "metadata": {},
   "outputs": [],
   "source": [
    "import xarray as xr\n",
    "import netCDF4 as nc\n",
    "%matplotlib inline"
   ]
  },
  {
   "cell_type": "markdown",
   "metadata": {},
   "source": [
    "### Remote vs. direct filesystem access\n",
    "\n",
    "In this example, we will use a file from the CMIP5 Australian Published data collection, specifically the monthly historical tasmax data:\n",
    "\n",
    "    /g/data/rr3/publications/CMIP5/output1/CSIRO-BOM/ACCESS1-3/historical/mon/atmos/Amon/r1i1p1/v20120727/tasmax/tasmax_Amon_ACCESS1-0_historical_r1i1p1_185001-200512.nc\n",
    "    \n",
    "\n",
    "and we are going to compare direct vs. remote access. Timings (using the `%%time` magic function) will also be shown to help illustrate when it can be useful to conduct analysis on the filesystem."
   ]
  },
  {
   "cell_type": "markdown",
   "metadata": {},
   "source": [
    "#### Local path on /g/data"
   ]
  },
  {
   "cell_type": "code",
   "execution_count": 2,
   "metadata": {},
   "outputs": [],
   "source": [
    "path = '/g/data/rr3/publications/CMIP5/output1/CSIRO-BOM/ACCESS1-3/historical/mon/atmos/\\\n",
    "Amon/r1i1p1/v20130325/tasmax/tasmax_Amon_ACCESS1-3_historical_r1i1p1_185001-200512.nc'"
   ]
  },
  {
   "cell_type": "markdown",
   "metadata": {},
   "source": [
    "#### OPeNDAP Data URL\n",
    "\n",
    "For more information on where to find OPeNDAP URL's, see:\n",
    "<a href=\"https://nbviewer.jupyter.org/github/nci-training/readthedoc_NCI_data_training/blob/master/docs/_notebook/TDS/tds_OPeNDAP_cmip5.ipynb\">THREDDS Data Server: Data Access</a>\n"
   ]
  },
  {
   "cell_type": "code",
   "execution_count": 3,
   "metadata": {},
   "outputs": [],
   "source": [
    "url = 'http://dapds00.nci.org.au/thredds/dodsC/rr3/CMIP5/output1/CSIRO-BOM/ACCESS1-3/historical/mon/atmos/\\\n",
    "Amon/r1i1p1/v20130325/tasmax/tasmax_Amon_ACCESS1-3_historical_r1i1p1_185001-200512.nc'"
   ]
  },
  {
   "cell_type": "markdown",
   "metadata": {},
   "source": [
    "#### Open the file, comparing the time on the local filesystem and remote url"
   ]
  },
  {
   "cell_type": "code",
   "execution_count": 4,
   "metadata": {},
   "outputs": [
    {
     "name": "stdout",
     "output_type": "stream",
     "text": [
      "CPU times: user 240 µs, sys: 162 ms, total: 162 ms\n",
      "Wall time: 1.25 s\n"
     ]
    }
   ],
   "source": [
    "%%time\n",
    "f1 = xr.open_dataset(path, decode_times=False)"
   ]
  },
  {
   "cell_type": "code",
   "execution_count": null,
   "metadata": {},
   "outputs": [],
   "source": [
    "%%time\n",
    "f2 = xr.open_dataset(url)"
   ]
  },
  {
   "cell_type": "markdown",
   "metadata": {},
   "source": [
    "The difference in times is due to the remote URL access. Data access response time is quick using Xarray's `open_dataset()` function because of the lazy loading of data. But if force the data to load into memory:"
   ]
  },
  {
   "cell_type": "code",
   "execution_count": 6,
   "metadata": {},
   "outputs": [
    {
     "name": "stdout",
     "output_type": "stream",
     "text": [
      "CPU times: user 358 ms, sys: 155 ms, total: 513 ms\n",
      "Wall time: 511 ms\n"
     ]
    },
    {
     "data": {
      "text/html": [
       "<pre>&lt;xarray.DataArray &#x27;tasmax&#x27; (time: 1872, lat: 145, lon: 192)&gt;\n",
       "array([[[242.22649, 242.22649, 242.22649, ..., 242.22028, 242.22028,\n",
       "         242.22028],\n",
       "        [243.91931, 243.87326, 243.82875, ..., 244.05038, 244.00957,\n",
       "         243.96425],\n",
       "        [245.13287, 245.08662, 245.0183 , ..., 245.27603, 245.23296,\n",
       "         245.18419],\n",
       "        ...,\n",
       "        [242.64438, 242.74596, 242.86943, ..., 242.36124, 242.45232,\n",
       "         242.54388],\n",
       "        [241.69199, 241.74554, 241.79771, ..., 241.67577, 241.68051,\n",
       "         241.69809],\n",
       "        [240.87485, 240.87485, 240.87485, ..., 240.87485, 240.87485,\n",
       "         240.87485]],\n",
       "\n",
       "       [[235.21791, 235.21791, 235.21791, ..., 235.2146 , 235.2146 ,\n",
       "         235.2146 ],\n",
       "        [237.052  , 237.029  , 237.00833, ..., 237.17393, 237.13855,\n",
       "         237.09853],\n",
       "        [237.41914, 237.29343, 237.1765 , ..., 237.80144, 237.6658 ,\n",
       "         237.53809],\n",
       "        ...,\n",
       "        [240.60106, 240.53203, 240.48082, ..., 240.71024, 240.71312,\n",
       "         240.65256],\n",
       "        [238.93102, 238.94348, 238.95735, ..., 238.84721, 238.8793 ,\n",
       "         238.91093],\n",
       "        [236.43845, 236.43845, 236.43845, ..., 236.43845, 236.43845,\n",
       "         236.43845]],\n",
       "\n",
       "       [[223.82248, 223.82248, 223.82248, ..., 223.81923, 223.81923,\n",
       "         223.81923],\n",
       "        [228.1175 , 228.05615, 228.00998, ..., 228.28644, 228.22849,\n",
       "         228.17545],\n",
       "        [229.21747, 229.08847, 228.9618 , ..., 229.61053, 229.47765,\n",
       "         229.34256],\n",
       "        ...,\n",
       "        [243.81131, 243.88744, 243.97946, ..., 243.57245, 243.6507 ,\n",
       "         243.72934],\n",
       "        [243.39563, 243.40419, 243.41534, ..., 243.32387, 243.34251,\n",
       "         243.37648],\n",
       "        [242.78352, 242.78352, 242.78352, ..., 242.78352, 242.78352,\n",
       "         242.78352]],\n",
       "\n",
       "       ...,\n",
       "\n",
       "       [[222.91371, 222.91371, 222.91371, ..., 222.90314, 222.90314,\n",
       "         222.90314],\n",
       "        [227.95497, 227.90009, 227.84071, ..., 228.13326, 228.07675,\n",
       "         228.0165 ],\n",
       "        [230.00499, 229.81673, 229.62323, ..., 230.51114, 230.35124,\n",
       "         230.18073],\n",
       "        ...,\n",
       "        [257.4335 , 257.61444, 257.79364, ..., 256.95648, 257.11493,\n",
       "         257.26663],\n",
       "        [257.3382 , 257.4279 , 257.54178, ..., 257.04166, 257.12665,\n",
       "         257.2381 ],\n",
       "        [257.07758, 257.07758, 257.07758, ..., 257.07758, 257.07758,\n",
       "         257.07758]],\n",
       "\n",
       "       [[240.10124, 240.10124, 240.10124, ..., 240.09166, 240.09166,\n",
       "         240.09166],\n",
       "        [241.85622, 241.80452, 241.75043, ..., 241.99152, 241.93628,\n",
       "         241.88435],\n",
       "        [242.79108, 242.68707, 242.58368, ..., 243.11673, 243.01666,\n",
       "         242.9077 ],\n",
       "        ...,\n",
       "        [260.98044, 261.00912, 261.07172, ..., 260.78656, 260.87418,\n",
       "         260.9435 ],\n",
       "        [260.00974, 260.02213, 260.0323 , ..., 259.96994, 259.99246,\n",
       "         260.0092 ],\n",
       "        [258.00223, 258.00223, 258.00223, ..., 258.00223, 258.00223,\n",
       "         258.00223]],\n",
       "\n",
       "       [[247.96088, 247.96088, 247.96088, ..., 247.93704, 247.93704,\n",
       "         247.93704],\n",
       "        [248.94565, 248.89906, 248.85555, ..., 249.08572, 249.03673,\n",
       "         248.98915],\n",
       "        [249.93575, 249.80705, 249.679  , ..., 250.31178, 250.1902 ,\n",
       "         250.0654 ],\n",
       "        ...,\n",
       "        [251.01753, 251.10835, 251.17427, ..., 250.68848, 250.80872,\n",
       "         250.9194 ],\n",
       "        [249.8625 , 249.90404, 249.93315, ..., 249.72313, 249.77002,\n",
       "         249.82123],\n",
       "        [248.79779, 248.79779, 248.79779, ..., 248.79779, 248.79779,\n",
       "         248.79779]]], dtype=float32)\n",
       "Coordinates:\n",
       "  * time     (time) float64 6.753e+05 6.754e+05 ... 7.323e+05 7.323e+05\n",
       "  * lat      (lat) float64 -90.0 -88.75 -87.5 -86.25 ... 86.25 87.5 88.75 90.0\n",
       "  * lon      (lon) float64 0.0 1.875 3.75 5.625 7.5 ... 352.5 354.4 356.2 358.1\n",
       "    height   float64 1.5\n",
       "Attributes:\n",
       "    standard_name:     air_temperature\n",
       "    long_name:         Daily Maximum Near-Surface Air Temperature\n",
       "    comment:           monthly mean of the daily-maximum near-surface air tem...\n",
       "    units:             K\n",
       "    cell_methods:      time: maximum within days time: mean over days\n",
       "    cell_measures:     area: areacella\n",
       "    history:           2013-03-25T05:03:31Z altered by CMOR: Treated scalar d...\n",
       "    associated_files:  baseURL: http://cmip-pcmdi.llnl.gov/CMIP5/dataLocation...</pre>"
      ],
      "text/plain": [
       "<xarray.DataArray 'tasmax' (time: 1872, lat: 145, lon: 192)>\n",
       "array([[[242.22649, 242.22649, 242.22649, ..., 242.22028, 242.22028,\n",
       "         242.22028],\n",
       "        [243.91931, 243.87326, 243.82875, ..., 244.05038, 244.00957,\n",
       "         243.96425],\n",
       "        [245.13287, 245.08662, 245.0183 , ..., 245.27603, 245.23296,\n",
       "         245.18419],\n",
       "        ...,\n",
       "        [242.64438, 242.74596, 242.86943, ..., 242.36124, 242.45232,\n",
       "         242.54388],\n",
       "        [241.69199, 241.74554, 241.79771, ..., 241.67577, 241.68051,\n",
       "         241.69809],\n",
       "        [240.87485, 240.87485, 240.87485, ..., 240.87485, 240.87485,\n",
       "         240.87485]],\n",
       "\n",
       "       [[235.21791, 235.21791, 235.21791, ..., 235.2146 , 235.2146 ,\n",
       "         235.2146 ],\n",
       "        [237.052  , 237.029  , 237.00833, ..., 237.17393, 237.13855,\n",
       "         237.09853],\n",
       "        [237.41914, 237.29343, 237.1765 , ..., 237.80144, 237.6658 ,\n",
       "         237.53809],\n",
       "        ...,\n",
       "        [240.60106, 240.53203, 240.48082, ..., 240.71024, 240.71312,\n",
       "         240.65256],\n",
       "        [238.93102, 238.94348, 238.95735, ..., 238.84721, 238.8793 ,\n",
       "         238.91093],\n",
       "        [236.43845, 236.43845, 236.43845, ..., 236.43845, 236.43845,\n",
       "         236.43845]],\n",
       "\n",
       "       [[223.82248, 223.82248, 223.82248, ..., 223.81923, 223.81923,\n",
       "         223.81923],\n",
       "        [228.1175 , 228.05615, 228.00998, ..., 228.28644, 228.22849,\n",
       "         228.17545],\n",
       "        [229.21747, 229.08847, 228.9618 , ..., 229.61053, 229.47765,\n",
       "         229.34256],\n",
       "        ...,\n",
       "        [243.81131, 243.88744, 243.97946, ..., 243.57245, 243.6507 ,\n",
       "         243.72934],\n",
       "        [243.39563, 243.40419, 243.41534, ..., 243.32387, 243.34251,\n",
       "         243.37648],\n",
       "        [242.78352, 242.78352, 242.78352, ..., 242.78352, 242.78352,\n",
       "         242.78352]],\n",
       "\n",
       "       ...,\n",
       "\n",
       "       [[222.91371, 222.91371, 222.91371, ..., 222.90314, 222.90314,\n",
       "         222.90314],\n",
       "        [227.95497, 227.90009, 227.84071, ..., 228.13326, 228.07675,\n",
       "         228.0165 ],\n",
       "        [230.00499, 229.81673, 229.62323, ..., 230.51114, 230.35124,\n",
       "         230.18073],\n",
       "        ...,\n",
       "        [257.4335 , 257.61444, 257.79364, ..., 256.95648, 257.11493,\n",
       "         257.26663],\n",
       "        [257.3382 , 257.4279 , 257.54178, ..., 257.04166, 257.12665,\n",
       "         257.2381 ],\n",
       "        [257.07758, 257.07758, 257.07758, ..., 257.07758, 257.07758,\n",
       "         257.07758]],\n",
       "\n",
       "       [[240.10124, 240.10124, 240.10124, ..., 240.09166, 240.09166,\n",
       "         240.09166],\n",
       "        [241.85622, 241.80452, 241.75043, ..., 241.99152, 241.93628,\n",
       "         241.88435],\n",
       "        [242.79108, 242.68707, 242.58368, ..., 243.11673, 243.01666,\n",
       "         242.9077 ],\n",
       "        ...,\n",
       "        [260.98044, 261.00912, 261.07172, ..., 260.78656, 260.87418,\n",
       "         260.9435 ],\n",
       "        [260.00974, 260.02213, 260.0323 , ..., 259.96994, 259.99246,\n",
       "         260.0092 ],\n",
       "        [258.00223, 258.00223, 258.00223, ..., 258.00223, 258.00223,\n",
       "         258.00223]],\n",
       "\n",
       "       [[247.96088, 247.96088, 247.96088, ..., 247.93704, 247.93704,\n",
       "         247.93704],\n",
       "        [248.94565, 248.89906, 248.85555, ..., 249.08572, 249.03673,\n",
       "         248.98915],\n",
       "        [249.93575, 249.80705, 249.679  , ..., 250.31178, 250.1902 ,\n",
       "         250.0654 ],\n",
       "        ...,\n",
       "        [251.01753, 251.10835, 251.17427, ..., 250.68848, 250.80872,\n",
       "         250.9194 ],\n",
       "        [249.8625 , 249.90404, 249.93315, ..., 249.72313, 249.77002,\n",
       "         249.82123],\n",
       "        [248.79779, 248.79779, 248.79779, ..., 248.79779, 248.79779,\n",
       "         248.79779]]], dtype=float32)\n",
       "Coordinates:\n",
       "  * time     (time) float64 6.753e+05 6.754e+05 ... 7.323e+05 7.323e+05\n",
       "  * lat      (lat) float64 -90.0 -88.75 -87.5 -86.25 ... 86.25 87.5 88.75 90.0\n",
       "  * lon      (lon) float64 0.0 1.875 3.75 5.625 7.5 ... 352.5 354.4 356.2 358.1\n",
       "    height   float64 1.5\n",
       "Attributes:\n",
       "    standard_name:     air_temperature\n",
       "    long_name:         Daily Maximum Near-Surface Air Temperature\n",
       "    comment:           monthly mean of the daily-maximum near-surface air tem...\n",
       "    units:             K\n",
       "    cell_methods:      time: maximum within days time: mean over days\n",
       "    cell_measures:     area: areacella\n",
       "    history:           2013-03-25T05:03:31Z altered by CMOR: Treated scalar d...\n",
       "    associated_files:  baseURL: http://cmip-pcmdi.llnl.gov/CMIP5/dataLocation..."
      ]
     },
     "execution_count": 6,
     "metadata": {},
     "output_type": "execute_result"
    }
   ],
   "source": [
    "%%time\n",
    "f1 = xr.open_dataset(path, decode_times=False)\n",
    "tasmax = f1.tasmax\n",
    "tasmax.load()"
   ]
  },
  {
   "cell_type": "code",
   "execution_count": null,
   "metadata": {},
   "outputs": [],
   "source": [
    "%%time\n",
    "f2 = xr.open_dataset(url)\n",
    "tasmax = f2.tasmax\n",
    "tasmax.load()"
   ]
  },
  {
   "cell_type": "markdown",
   "metadata": {},
   "source": [
    "<div class=\"alert alert-info\">\n",
    "One big advantage of working directly on the filesystem is that data access is much faster. For modest subsets, the difference is quite small but as you work with larger data, remote access can become much slower or even exceed NCI's THREDDS Data Server memory limits. </div>"
   ]
  },
  {
   "cell_type": "markdown",
   "metadata": {},
   "source": [
    "### Build a multi-file dataset from an OpenDAP server"
   ]
  },
  {
   "cell_type": "code",
   "execution_count": 11,
   "metadata": {},
   "outputs": [
    {
     "data": {
      "text/plain": [
       "['http://dapds00.nci.org.au/thredds/catalog/rr3/CMIP5/output1/CSIRO-BOM/ACCESS1-3/historical/day/ocean/day/r1i1p1/latest/tos/tos_day_ACCESS1-3_historical_r1i1p1_18500101_18591231.nc',\n",
       " 'http://dapds00.nci.org.au/thredds/catalog/rr3/CMIP5/output1/CSIRO-BOM/ACCESS1-3/historical/day/ocean/day/r1i1p1/latest/tos/tos_day_ACCESS1-3_historical_r1i1p1_18600101_18691231.nc',\n",
       " 'http://dapds00.nci.org.au/thredds/catalog/rr3/CMIP5/output1/CSIRO-BOM/ACCESS1-3/historical/day/ocean/day/r1i1p1/latest/tos/tos_day_ACCESS1-3_historical_r1i1p1_18700101_18791231.nc',\n",
       " 'http://dapds00.nci.org.au/thredds/catalog/rr3/CMIP5/output1/CSIRO-BOM/ACCESS1-3/historical/day/ocean/day/r1i1p1/latest/tos/tos_day_ACCESS1-3_historical_r1i1p1_18800101_18891231.nc',\n",
       " 'http://dapds00.nci.org.au/thredds/catalog/rr3/CMIP5/output1/CSIRO-BOM/ACCESS1-3/historical/day/ocean/day/r1i1p1/latest/tos/tos_day_ACCESS1-3_historical_r1i1p1_18900101_18991231.nc',\n",
       " 'http://dapds00.nci.org.au/thredds/catalog/rr3/CMIP5/output1/CSIRO-BOM/ACCESS1-3/historical/day/ocean/day/r1i1p1/latest/tos/tos_day_ACCESS1-3_historical_r1i1p1_19000101_19091231.nc',\n",
       " 'http://dapds00.nci.org.au/thredds/catalog/rr3/CMIP5/output1/CSIRO-BOM/ACCESS1-3/historical/day/ocean/day/r1i1p1/latest/tos/tos_day_ACCESS1-3_historical_r1i1p1_19100101_19191231.nc',\n",
       " 'http://dapds00.nci.org.au/thredds/catalog/rr3/CMIP5/output1/CSIRO-BOM/ACCESS1-3/historical/day/ocean/day/r1i1p1/latest/tos/tos_day_ACCESS1-3_historical_r1i1p1_19200101_19291231.nc',\n",
       " 'http://dapds00.nci.org.au/thredds/catalog/rr3/CMIP5/output1/CSIRO-BOM/ACCESS1-3/historical/day/ocean/day/r1i1p1/latest/tos/tos_day_ACCESS1-3_historical_r1i1p1_19300101_19391231.nc',\n",
       " 'http://dapds00.nci.org.au/thredds/catalog/rr3/CMIP5/output1/CSIRO-BOM/ACCESS1-3/historical/day/ocean/day/r1i1p1/latest/tos/tos_day_ACCESS1-3_historical_r1i1p1_19400101_19491231.nc',\n",
       " 'http://dapds00.nci.org.au/thredds/catalog/rr3/CMIP5/output1/CSIRO-BOM/ACCESS1-3/historical/day/ocean/day/r1i1p1/latest/tos/tos_day_ACCESS1-3_historical_r1i1p1_19500101_19591231.nc',\n",
       " 'http://dapds00.nci.org.au/thredds/catalog/rr3/CMIP5/output1/CSIRO-BOM/ACCESS1-3/historical/day/ocean/day/r1i1p1/latest/tos/tos_day_ACCESS1-3_historical_r1i1p1_19600101_19691231.nc',\n",
       " 'http://dapds00.nci.org.au/thredds/catalog/rr3/CMIP5/output1/CSIRO-BOM/ACCESS1-3/historical/day/ocean/day/r1i1p1/latest/tos/tos_day_ACCESS1-3_historical_r1i1p1_19700101_19791231.nc',\n",
       " 'http://dapds00.nci.org.au/thredds/catalog/rr3/CMIP5/output1/CSIRO-BOM/ACCESS1-3/historical/day/ocean/day/r1i1p1/latest/tos/tos_day_ACCESS1-3_historical_r1i1p1_19800101_19891231.nc']"
      ]
     },
     "execution_count": 11,
     "metadata": {},
     "output_type": "execute_result"
    }
   ],
   "source": [
    "base_url = 'http://dapds00.nci.org.au/thredds/catalog/rr3/CMIP5/output1/CSIRO-BOM/ACCESS1-3/\\\n",
    "historical/day/ocean/day/r1i1p1/latest/tos/tos_day_ACCESS1-3_historical_r1i1p1_'\n",
    "files = [f'{base_url}{year}0101_{year+9}1231.nc' for year in range(1850, 1990, 10)]\n",
    "files"
   ]
  },
  {
   "cell_type": "markdown",
   "metadata": {},
   "source": [
    "<div class=\"alert alert-warning\">\n",
    "Notes: Formatter string literals is used in constructing multiple files above. This uitlity is only available in python 3.6 and above. If you run this example using current VDI setting, this won't work. Please replace the above code using traditional string formatting method, something like this would work: </div>"
   ]
  },
  {
   "cell_type": "code",
   "execution_count": null,
   "metadata": {},
   "outputs": [],
   "source": [
    "base_url = 'http://dapds00.nci.org.au/thredds/catalog/rr3/CMIP5/output1/CSIRO-BOM/ACCESS1-3/\\\n",
    "historical/day/ocean/day/r1i1p1/latest/tos/tos_day_ACCESS1-3_historical_r1i1p1_'\n",
    "files = []\n",
    "for year in range(1850, 1990, 10):\n",
    "    file = print('{0}{1}0101_{2}1231.nc'.format(base_url, year, year+9))\n",
    "    files.append(file)"
   ]
  },
  {
   "cell_type": "markdown",
   "metadata": {},
   "source": [
    "We can now the entire ensemble of files on the remote server as a single xarray Dataset using `Xarray.mfdataset( )`!"
   ]
  },
  {
   "cell_type": "code",
   "execution_count": 12,
   "metadata": {},
   "outputs": [
    {
     "ename": "OSError",
     "evalue": "[Errno -68] NetCDF: I/O failure: b'http://dapds00.nci.org.au/thredds/catalog/rr3/CMIP5/output1/CSIRO-BOM/ACCESS1-3/historical/day/ocean/day/r1i1p1/latest/tos/tos_day_ACCESS1-3_historical_r1i1p1_18500101_18591231.nc'",
     "output_type": "error",
     "traceback": [
      "\u001b[0;31m---------------------------------------------------------------------------\u001b[0m",
      "\u001b[0;31mKeyError\u001b[0m                                  Traceback (most recent call last)",
      "\u001b[0;32m/apps/pangeo/2019.12/lib/python3.7/site-packages/xarray/backends/file_manager.py\u001b[0m in \u001b[0;36m_acquire_with_cache_info\u001b[0;34m(self, needs_lock)\u001b[0m\n\u001b[1;32m    197\u001b[0m             \u001b[0;32mtry\u001b[0m\u001b[0;34m:\u001b[0m\u001b[0;34m\u001b[0m\u001b[0;34m\u001b[0m\u001b[0m\n\u001b[0;32m--> 198\u001b[0;31m                 \u001b[0mfile\u001b[0m \u001b[0;34m=\u001b[0m \u001b[0mself\u001b[0m\u001b[0;34m.\u001b[0m\u001b[0m_cache\u001b[0m\u001b[0;34m[\u001b[0m\u001b[0mself\u001b[0m\u001b[0;34m.\u001b[0m\u001b[0m_key\u001b[0m\u001b[0;34m]\u001b[0m\u001b[0;34m\u001b[0m\u001b[0;34m\u001b[0m\u001b[0m\n\u001b[0m\u001b[1;32m    199\u001b[0m             \u001b[0;32mexcept\u001b[0m \u001b[0mKeyError\u001b[0m\u001b[0;34m:\u001b[0m\u001b[0;34m\u001b[0m\u001b[0;34m\u001b[0m\u001b[0m\n",
      "\u001b[0;32m/apps/pangeo/2019.12/lib/python3.7/site-packages/xarray/backends/lru_cache.py\u001b[0m in \u001b[0;36m__getitem__\u001b[0;34m(self, key)\u001b[0m\n\u001b[1;32m     52\u001b[0m         \u001b[0;32mwith\u001b[0m \u001b[0mself\u001b[0m\u001b[0;34m.\u001b[0m\u001b[0m_lock\u001b[0m\u001b[0;34m:\u001b[0m\u001b[0;34m\u001b[0m\u001b[0;34m\u001b[0m\u001b[0m\n\u001b[0;32m---> 53\u001b[0;31m             \u001b[0mvalue\u001b[0m \u001b[0;34m=\u001b[0m \u001b[0mself\u001b[0m\u001b[0;34m.\u001b[0m\u001b[0m_cache\u001b[0m\u001b[0;34m[\u001b[0m\u001b[0mkey\u001b[0m\u001b[0;34m]\u001b[0m\u001b[0;34m\u001b[0m\u001b[0;34m\u001b[0m\u001b[0m\n\u001b[0m\u001b[1;32m     54\u001b[0m             \u001b[0mself\u001b[0m\u001b[0;34m.\u001b[0m\u001b[0m_cache\u001b[0m\u001b[0;34m.\u001b[0m\u001b[0mmove_to_end\u001b[0m\u001b[0;34m(\u001b[0m\u001b[0mkey\u001b[0m\u001b[0;34m)\u001b[0m\u001b[0;34m\u001b[0m\u001b[0;34m\u001b[0m\u001b[0m\n",
      "\u001b[0;31mKeyError\u001b[0m: [<class 'netCDF4._netCDF4.Dataset'>, ('http://dapds00.nci.org.au/thredds/catalog/rr3/CMIP5/output1/CSIRO-BOM/ACCESS1-3/historical/day/ocean/day/r1i1p1/latest/tos/tos_day_ACCESS1-3_historical_r1i1p1_18500101_18591231.nc',), 'r', (('clobber', True), ('diskless', False), ('format', 'NETCDF4'), ('persist', False))]",
      "\nDuring handling of the above exception, another exception occurred:\n",
      "\u001b[0;31mOSError\u001b[0m                                   Traceback (most recent call last)",
      "\u001b[0;32m<ipython-input-12-04c2c34dac11>\u001b[0m in \u001b[0;36m<module>\u001b[0;34m\u001b[0m\n\u001b[0;32m----> 1\u001b[0;31m \u001b[0mf3\u001b[0m \u001b[0;34m=\u001b[0m \u001b[0mxr\u001b[0m\u001b[0;34m.\u001b[0m\u001b[0mopen_mfdataset\u001b[0m\u001b[0;34m(\u001b[0m\u001b[0mfiles\u001b[0m\u001b[0;34m,\u001b[0m\u001b[0mdecode_times\u001b[0m\u001b[0;34m=\u001b[0m\u001b[0;32mFalse\u001b[0m\u001b[0;34m)\u001b[0m\u001b[0;34m\u001b[0m\u001b[0;34m\u001b[0m\u001b[0m\n\u001b[0m\u001b[1;32m      2\u001b[0m \u001b[0mf3\u001b[0m\u001b[0;34m\u001b[0m\u001b[0;34m\u001b[0m\u001b[0m\n",
      "\u001b[0;32m/apps/pangeo/2019.12/lib/python3.7/site-packages/xarray/backends/api.py\u001b[0m in \u001b[0;36mopen_mfdataset\u001b[0;34m(paths, chunks, concat_dim, compat, preprocess, engine, lock, data_vars, coords, combine, autoclose, parallel, join, **kwargs)\u001b[0m\n\u001b[1;32m    898\u001b[0m         \u001b[0mgetattr_\u001b[0m \u001b[0;34m=\u001b[0m \u001b[0mgetattr\u001b[0m\u001b[0;34m\u001b[0m\u001b[0;34m\u001b[0m\u001b[0m\n\u001b[1;32m    899\u001b[0m \u001b[0;34m\u001b[0m\u001b[0m\n\u001b[0;32m--> 900\u001b[0;31m     \u001b[0mdatasets\u001b[0m \u001b[0;34m=\u001b[0m \u001b[0;34m[\u001b[0m\u001b[0mopen_\u001b[0m\u001b[0;34m(\u001b[0m\u001b[0mp\u001b[0m\u001b[0;34m,\u001b[0m \u001b[0;34m**\u001b[0m\u001b[0mopen_kwargs\u001b[0m\u001b[0;34m)\u001b[0m \u001b[0;32mfor\u001b[0m \u001b[0mp\u001b[0m \u001b[0;32min\u001b[0m \u001b[0mpaths\u001b[0m\u001b[0;34m]\u001b[0m\u001b[0;34m\u001b[0m\u001b[0;34m\u001b[0m\u001b[0m\n\u001b[0m\u001b[1;32m    901\u001b[0m     \u001b[0mfile_objs\u001b[0m \u001b[0;34m=\u001b[0m \u001b[0;34m[\u001b[0m\u001b[0mgetattr_\u001b[0m\u001b[0;34m(\u001b[0m\u001b[0mds\u001b[0m\u001b[0;34m,\u001b[0m \u001b[0;34m\"_file_obj\"\u001b[0m\u001b[0;34m)\u001b[0m \u001b[0;32mfor\u001b[0m \u001b[0mds\u001b[0m \u001b[0;32min\u001b[0m \u001b[0mdatasets\u001b[0m\u001b[0;34m]\u001b[0m\u001b[0;34m\u001b[0m\u001b[0;34m\u001b[0m\u001b[0m\n\u001b[1;32m    902\u001b[0m     \u001b[0;32mif\u001b[0m \u001b[0mpreprocess\u001b[0m \u001b[0;32mis\u001b[0m \u001b[0;32mnot\u001b[0m \u001b[0;32mNone\u001b[0m\u001b[0;34m:\u001b[0m\u001b[0;34m\u001b[0m\u001b[0;34m\u001b[0m\u001b[0m\n",
      "\u001b[0;32m/apps/pangeo/2019.12/lib/python3.7/site-packages/xarray/backends/api.py\u001b[0m in \u001b[0;36m<listcomp>\u001b[0;34m(.0)\u001b[0m\n\u001b[1;32m    898\u001b[0m         \u001b[0mgetattr_\u001b[0m \u001b[0;34m=\u001b[0m \u001b[0mgetattr\u001b[0m\u001b[0;34m\u001b[0m\u001b[0;34m\u001b[0m\u001b[0m\n\u001b[1;32m    899\u001b[0m \u001b[0;34m\u001b[0m\u001b[0m\n\u001b[0;32m--> 900\u001b[0;31m     \u001b[0mdatasets\u001b[0m \u001b[0;34m=\u001b[0m \u001b[0;34m[\u001b[0m\u001b[0mopen_\u001b[0m\u001b[0;34m(\u001b[0m\u001b[0mp\u001b[0m\u001b[0;34m,\u001b[0m \u001b[0;34m**\u001b[0m\u001b[0mopen_kwargs\u001b[0m\u001b[0;34m)\u001b[0m \u001b[0;32mfor\u001b[0m \u001b[0mp\u001b[0m \u001b[0;32min\u001b[0m \u001b[0mpaths\u001b[0m\u001b[0;34m]\u001b[0m\u001b[0;34m\u001b[0m\u001b[0;34m\u001b[0m\u001b[0m\n\u001b[0m\u001b[1;32m    901\u001b[0m     \u001b[0mfile_objs\u001b[0m \u001b[0;34m=\u001b[0m \u001b[0;34m[\u001b[0m\u001b[0mgetattr_\u001b[0m\u001b[0;34m(\u001b[0m\u001b[0mds\u001b[0m\u001b[0;34m,\u001b[0m \u001b[0;34m\"_file_obj\"\u001b[0m\u001b[0;34m)\u001b[0m \u001b[0;32mfor\u001b[0m \u001b[0mds\u001b[0m \u001b[0;32min\u001b[0m \u001b[0mdatasets\u001b[0m\u001b[0;34m]\u001b[0m\u001b[0;34m\u001b[0m\u001b[0;34m\u001b[0m\u001b[0m\n\u001b[1;32m    902\u001b[0m     \u001b[0;32mif\u001b[0m \u001b[0mpreprocess\u001b[0m \u001b[0;32mis\u001b[0m \u001b[0;32mnot\u001b[0m \u001b[0;32mNone\u001b[0m\u001b[0;34m:\u001b[0m\u001b[0;34m\u001b[0m\u001b[0;34m\u001b[0m\u001b[0m\n",
      "\u001b[0;32m/apps/pangeo/2019.12/lib/python3.7/site-packages/xarray/backends/api.py\u001b[0m in \u001b[0;36mopen_dataset\u001b[0;34m(filename_or_obj, group, decode_cf, mask_and_scale, decode_times, autoclose, concat_characters, decode_coords, engine, chunks, lock, cache, drop_variables, backend_kwargs, use_cftime)\u001b[0m\n\u001b[1;32m    497\u001b[0m         \u001b[0;32mif\u001b[0m \u001b[0mengine\u001b[0m \u001b[0;34m==\u001b[0m \u001b[0;34m\"netcdf4\"\u001b[0m\u001b[0;34m:\u001b[0m\u001b[0;34m\u001b[0m\u001b[0;34m\u001b[0m\u001b[0m\n\u001b[1;32m    498\u001b[0m             store = backends.NetCDF4DataStore.open(\n\u001b[0;32m--> 499\u001b[0;31m                 \u001b[0mfilename_or_obj\u001b[0m\u001b[0;34m,\u001b[0m \u001b[0mgroup\u001b[0m\u001b[0;34m=\u001b[0m\u001b[0mgroup\u001b[0m\u001b[0;34m,\u001b[0m \u001b[0mlock\u001b[0m\u001b[0;34m=\u001b[0m\u001b[0mlock\u001b[0m\u001b[0;34m,\u001b[0m \u001b[0;34m**\u001b[0m\u001b[0mbackend_kwargs\u001b[0m\u001b[0;34m\u001b[0m\u001b[0;34m\u001b[0m\u001b[0m\n\u001b[0m\u001b[1;32m    500\u001b[0m             )\n\u001b[1;32m    501\u001b[0m         \u001b[0;32melif\u001b[0m \u001b[0mengine\u001b[0m \u001b[0;34m==\u001b[0m \u001b[0;34m\"scipy\"\u001b[0m\u001b[0;34m:\u001b[0m\u001b[0;34m\u001b[0m\u001b[0;34m\u001b[0m\u001b[0m\n",
      "\u001b[0;32m/apps/pangeo/2019.12/lib/python3.7/site-packages/xarray/backends/netCDF4_.py\u001b[0m in \u001b[0;36mopen\u001b[0;34m(cls, filename, mode, format, group, clobber, diskless, persist, lock, lock_maker, autoclose)\u001b[0m\n\u001b[1;32m    355\u001b[0m             \u001b[0mnetCDF4\u001b[0m\u001b[0;34m.\u001b[0m\u001b[0mDataset\u001b[0m\u001b[0;34m,\u001b[0m \u001b[0mfilename\u001b[0m\u001b[0;34m,\u001b[0m \u001b[0mmode\u001b[0m\u001b[0;34m=\u001b[0m\u001b[0mmode\u001b[0m\u001b[0;34m,\u001b[0m \u001b[0mkwargs\u001b[0m\u001b[0;34m=\u001b[0m\u001b[0mkwargs\u001b[0m\u001b[0;34m\u001b[0m\u001b[0;34m\u001b[0m\u001b[0m\n\u001b[1;32m    356\u001b[0m         )\n\u001b[0;32m--> 357\u001b[0;31m         \u001b[0;32mreturn\u001b[0m \u001b[0mcls\u001b[0m\u001b[0;34m(\u001b[0m\u001b[0mmanager\u001b[0m\u001b[0;34m,\u001b[0m \u001b[0mgroup\u001b[0m\u001b[0;34m=\u001b[0m\u001b[0mgroup\u001b[0m\u001b[0;34m,\u001b[0m \u001b[0mmode\u001b[0m\u001b[0;34m=\u001b[0m\u001b[0mmode\u001b[0m\u001b[0;34m,\u001b[0m \u001b[0mlock\u001b[0m\u001b[0;34m=\u001b[0m\u001b[0mlock\u001b[0m\u001b[0;34m,\u001b[0m \u001b[0mautoclose\u001b[0m\u001b[0;34m=\u001b[0m\u001b[0mautoclose\u001b[0m\u001b[0;34m)\u001b[0m\u001b[0;34m\u001b[0m\u001b[0;34m\u001b[0m\u001b[0m\n\u001b[0m\u001b[1;32m    358\u001b[0m \u001b[0;34m\u001b[0m\u001b[0m\n\u001b[1;32m    359\u001b[0m     \u001b[0;32mdef\u001b[0m \u001b[0m_acquire\u001b[0m\u001b[0;34m(\u001b[0m\u001b[0mself\u001b[0m\u001b[0;34m,\u001b[0m \u001b[0mneeds_lock\u001b[0m\u001b[0;34m=\u001b[0m\u001b[0;32mTrue\u001b[0m\u001b[0;34m)\u001b[0m\u001b[0;34m:\u001b[0m\u001b[0;34m\u001b[0m\u001b[0;34m\u001b[0m\u001b[0m\n",
      "\u001b[0;32m/apps/pangeo/2019.12/lib/python3.7/site-packages/xarray/backends/netCDF4_.py\u001b[0m in \u001b[0;36m__init__\u001b[0;34m(self, manager, group, mode, lock, autoclose)\u001b[0m\n\u001b[1;32m    311\u001b[0m         \u001b[0mself\u001b[0m\u001b[0;34m.\u001b[0m\u001b[0m_group\u001b[0m \u001b[0;34m=\u001b[0m \u001b[0mgroup\u001b[0m\u001b[0;34m\u001b[0m\u001b[0;34m\u001b[0m\u001b[0m\n\u001b[1;32m    312\u001b[0m         \u001b[0mself\u001b[0m\u001b[0;34m.\u001b[0m\u001b[0m_mode\u001b[0m \u001b[0;34m=\u001b[0m \u001b[0mmode\u001b[0m\u001b[0;34m\u001b[0m\u001b[0;34m\u001b[0m\u001b[0m\n\u001b[0;32m--> 313\u001b[0;31m         \u001b[0mself\u001b[0m\u001b[0;34m.\u001b[0m\u001b[0mformat\u001b[0m \u001b[0;34m=\u001b[0m \u001b[0mself\u001b[0m\u001b[0;34m.\u001b[0m\u001b[0mds\u001b[0m\u001b[0;34m.\u001b[0m\u001b[0mdata_model\u001b[0m\u001b[0;34m\u001b[0m\u001b[0;34m\u001b[0m\u001b[0m\n\u001b[0m\u001b[1;32m    314\u001b[0m         \u001b[0mself\u001b[0m\u001b[0;34m.\u001b[0m\u001b[0m_filename\u001b[0m \u001b[0;34m=\u001b[0m \u001b[0mself\u001b[0m\u001b[0;34m.\u001b[0m\u001b[0mds\u001b[0m\u001b[0;34m.\u001b[0m\u001b[0mfilepath\u001b[0m\u001b[0;34m(\u001b[0m\u001b[0;34m)\u001b[0m\u001b[0;34m\u001b[0m\u001b[0;34m\u001b[0m\u001b[0m\n\u001b[1;32m    315\u001b[0m         \u001b[0mself\u001b[0m\u001b[0;34m.\u001b[0m\u001b[0mis_remote\u001b[0m \u001b[0;34m=\u001b[0m \u001b[0mis_remote_uri\u001b[0m\u001b[0;34m(\u001b[0m\u001b[0mself\u001b[0m\u001b[0;34m.\u001b[0m\u001b[0m_filename\u001b[0m\u001b[0;34m)\u001b[0m\u001b[0;34m\u001b[0m\u001b[0;34m\u001b[0m\u001b[0m\n",
      "\u001b[0;32m/apps/pangeo/2019.12/lib/python3.7/site-packages/xarray/backends/netCDF4_.py\u001b[0m in \u001b[0;36mds\u001b[0;34m(self)\u001b[0m\n\u001b[1;32m    364\u001b[0m     \u001b[0;34m@\u001b[0m\u001b[0mproperty\u001b[0m\u001b[0;34m\u001b[0m\u001b[0;34m\u001b[0m\u001b[0m\n\u001b[1;32m    365\u001b[0m     \u001b[0;32mdef\u001b[0m \u001b[0mds\u001b[0m\u001b[0;34m(\u001b[0m\u001b[0mself\u001b[0m\u001b[0;34m)\u001b[0m\u001b[0;34m:\u001b[0m\u001b[0;34m\u001b[0m\u001b[0;34m\u001b[0m\u001b[0m\n\u001b[0;32m--> 366\u001b[0;31m         \u001b[0;32mreturn\u001b[0m \u001b[0mself\u001b[0m\u001b[0;34m.\u001b[0m\u001b[0m_acquire\u001b[0m\u001b[0;34m(\u001b[0m\u001b[0;34m)\u001b[0m\u001b[0;34m\u001b[0m\u001b[0;34m\u001b[0m\u001b[0m\n\u001b[0m\u001b[1;32m    367\u001b[0m \u001b[0;34m\u001b[0m\u001b[0m\n\u001b[1;32m    368\u001b[0m     \u001b[0;32mdef\u001b[0m \u001b[0mopen_store_variable\u001b[0m\u001b[0;34m(\u001b[0m\u001b[0mself\u001b[0m\u001b[0;34m,\u001b[0m \u001b[0mname\u001b[0m\u001b[0;34m,\u001b[0m \u001b[0mvar\u001b[0m\u001b[0;34m)\u001b[0m\u001b[0;34m:\u001b[0m\u001b[0;34m\u001b[0m\u001b[0;34m\u001b[0m\u001b[0m\n",
      "\u001b[0;32m/apps/pangeo/2019.12/lib/python3.7/site-packages/xarray/backends/netCDF4_.py\u001b[0m in \u001b[0;36m_acquire\u001b[0;34m(self, needs_lock)\u001b[0m\n\u001b[1;32m    358\u001b[0m \u001b[0;34m\u001b[0m\u001b[0m\n\u001b[1;32m    359\u001b[0m     \u001b[0;32mdef\u001b[0m \u001b[0m_acquire\u001b[0m\u001b[0;34m(\u001b[0m\u001b[0mself\u001b[0m\u001b[0;34m,\u001b[0m \u001b[0mneeds_lock\u001b[0m\u001b[0;34m=\u001b[0m\u001b[0;32mTrue\u001b[0m\u001b[0;34m)\u001b[0m\u001b[0;34m:\u001b[0m\u001b[0;34m\u001b[0m\u001b[0;34m\u001b[0m\u001b[0m\n\u001b[0;32m--> 360\u001b[0;31m         \u001b[0;32mwith\u001b[0m \u001b[0mself\u001b[0m\u001b[0;34m.\u001b[0m\u001b[0m_manager\u001b[0m\u001b[0;34m.\u001b[0m\u001b[0macquire_context\u001b[0m\u001b[0;34m(\u001b[0m\u001b[0mneeds_lock\u001b[0m\u001b[0;34m)\u001b[0m \u001b[0;32mas\u001b[0m \u001b[0mroot\u001b[0m\u001b[0;34m:\u001b[0m\u001b[0;34m\u001b[0m\u001b[0;34m\u001b[0m\u001b[0m\n\u001b[0m\u001b[1;32m    361\u001b[0m             \u001b[0mds\u001b[0m \u001b[0;34m=\u001b[0m \u001b[0m_nc4_require_group\u001b[0m\u001b[0;34m(\u001b[0m\u001b[0mroot\u001b[0m\u001b[0;34m,\u001b[0m \u001b[0mself\u001b[0m\u001b[0;34m.\u001b[0m\u001b[0m_group\u001b[0m\u001b[0;34m,\u001b[0m \u001b[0mself\u001b[0m\u001b[0;34m.\u001b[0m\u001b[0m_mode\u001b[0m\u001b[0;34m)\u001b[0m\u001b[0;34m\u001b[0m\u001b[0;34m\u001b[0m\u001b[0m\n\u001b[1;32m    362\u001b[0m         \u001b[0;32mreturn\u001b[0m \u001b[0mds\u001b[0m\u001b[0;34m\u001b[0m\u001b[0;34m\u001b[0m\u001b[0m\n",
      "\u001b[0;32m/apps/python3/3.7.4/lib/python3.7/contextlib.py\u001b[0m in \u001b[0;36m__enter__\u001b[0;34m(self)\u001b[0m\n\u001b[1;32m    110\u001b[0m         \u001b[0;32mdel\u001b[0m \u001b[0mself\u001b[0m\u001b[0;34m.\u001b[0m\u001b[0margs\u001b[0m\u001b[0;34m,\u001b[0m \u001b[0mself\u001b[0m\u001b[0;34m.\u001b[0m\u001b[0mkwds\u001b[0m\u001b[0;34m,\u001b[0m \u001b[0mself\u001b[0m\u001b[0;34m.\u001b[0m\u001b[0mfunc\u001b[0m\u001b[0;34m\u001b[0m\u001b[0;34m\u001b[0m\u001b[0m\n\u001b[1;32m    111\u001b[0m         \u001b[0;32mtry\u001b[0m\u001b[0;34m:\u001b[0m\u001b[0;34m\u001b[0m\u001b[0;34m\u001b[0m\u001b[0m\n\u001b[0;32m--> 112\u001b[0;31m             \u001b[0;32mreturn\u001b[0m \u001b[0mnext\u001b[0m\u001b[0;34m(\u001b[0m\u001b[0mself\u001b[0m\u001b[0;34m.\u001b[0m\u001b[0mgen\u001b[0m\u001b[0;34m)\u001b[0m\u001b[0;34m\u001b[0m\u001b[0;34m\u001b[0m\u001b[0m\n\u001b[0m\u001b[1;32m    113\u001b[0m         \u001b[0;32mexcept\u001b[0m \u001b[0mStopIteration\u001b[0m\u001b[0;34m:\u001b[0m\u001b[0;34m\u001b[0m\u001b[0;34m\u001b[0m\u001b[0m\n\u001b[1;32m    114\u001b[0m             \u001b[0;32mraise\u001b[0m \u001b[0mRuntimeError\u001b[0m\u001b[0;34m(\u001b[0m\u001b[0;34m\"generator didn't yield\"\u001b[0m\u001b[0;34m)\u001b[0m \u001b[0;32mfrom\u001b[0m \u001b[0;32mNone\u001b[0m\u001b[0;34m\u001b[0m\u001b[0;34m\u001b[0m\u001b[0m\n",
      "\u001b[0;32m/apps/pangeo/2019.12/lib/python3.7/site-packages/xarray/backends/file_manager.py\u001b[0m in \u001b[0;36macquire_context\u001b[0;34m(self, needs_lock)\u001b[0m\n\u001b[1;32m    184\u001b[0m     \u001b[0;32mdef\u001b[0m \u001b[0macquire_context\u001b[0m\u001b[0;34m(\u001b[0m\u001b[0mself\u001b[0m\u001b[0;34m,\u001b[0m \u001b[0mneeds_lock\u001b[0m\u001b[0;34m=\u001b[0m\u001b[0;32mTrue\u001b[0m\u001b[0;34m)\u001b[0m\u001b[0;34m:\u001b[0m\u001b[0;34m\u001b[0m\u001b[0;34m\u001b[0m\u001b[0m\n\u001b[1;32m    185\u001b[0m         \u001b[0;34m\"\"\"Context manager for acquiring a file.\"\"\"\u001b[0m\u001b[0;34m\u001b[0m\u001b[0;34m\u001b[0m\u001b[0m\n\u001b[0;32m--> 186\u001b[0;31m         \u001b[0mfile\u001b[0m\u001b[0;34m,\u001b[0m \u001b[0mcached\u001b[0m \u001b[0;34m=\u001b[0m \u001b[0mself\u001b[0m\u001b[0;34m.\u001b[0m\u001b[0m_acquire_with_cache_info\u001b[0m\u001b[0;34m(\u001b[0m\u001b[0mneeds_lock\u001b[0m\u001b[0;34m)\u001b[0m\u001b[0;34m\u001b[0m\u001b[0;34m\u001b[0m\u001b[0m\n\u001b[0m\u001b[1;32m    187\u001b[0m         \u001b[0;32mtry\u001b[0m\u001b[0;34m:\u001b[0m\u001b[0;34m\u001b[0m\u001b[0;34m\u001b[0m\u001b[0m\n\u001b[1;32m    188\u001b[0m             \u001b[0;32myield\u001b[0m \u001b[0mfile\u001b[0m\u001b[0;34m\u001b[0m\u001b[0;34m\u001b[0m\u001b[0m\n",
      "\u001b[0;32m/apps/pangeo/2019.12/lib/python3.7/site-packages/xarray/backends/file_manager.py\u001b[0m in \u001b[0;36m_acquire_with_cache_info\u001b[0;34m(self, needs_lock)\u001b[0m\n\u001b[1;32m    202\u001b[0m                     \u001b[0mkwargs\u001b[0m \u001b[0;34m=\u001b[0m \u001b[0mkwargs\u001b[0m\u001b[0;34m.\u001b[0m\u001b[0mcopy\u001b[0m\u001b[0;34m(\u001b[0m\u001b[0;34m)\u001b[0m\u001b[0;34m\u001b[0m\u001b[0;34m\u001b[0m\u001b[0m\n\u001b[1;32m    203\u001b[0m                     \u001b[0mkwargs\u001b[0m\u001b[0;34m[\u001b[0m\u001b[0;34m\"mode\"\u001b[0m\u001b[0;34m]\u001b[0m \u001b[0;34m=\u001b[0m \u001b[0mself\u001b[0m\u001b[0;34m.\u001b[0m\u001b[0m_mode\u001b[0m\u001b[0;34m\u001b[0m\u001b[0;34m\u001b[0m\u001b[0m\n\u001b[0;32m--> 204\u001b[0;31m                 \u001b[0mfile\u001b[0m \u001b[0;34m=\u001b[0m \u001b[0mself\u001b[0m\u001b[0;34m.\u001b[0m\u001b[0m_opener\u001b[0m\u001b[0;34m(\u001b[0m\u001b[0;34m*\u001b[0m\u001b[0mself\u001b[0m\u001b[0;34m.\u001b[0m\u001b[0m_args\u001b[0m\u001b[0;34m,\u001b[0m \u001b[0;34m**\u001b[0m\u001b[0mkwargs\u001b[0m\u001b[0;34m)\u001b[0m\u001b[0;34m\u001b[0m\u001b[0;34m\u001b[0m\u001b[0m\n\u001b[0m\u001b[1;32m    205\u001b[0m                 \u001b[0;32mif\u001b[0m \u001b[0mself\u001b[0m\u001b[0;34m.\u001b[0m\u001b[0m_mode\u001b[0m \u001b[0;34m==\u001b[0m \u001b[0;34m\"w\"\u001b[0m\u001b[0;34m:\u001b[0m\u001b[0;34m\u001b[0m\u001b[0;34m\u001b[0m\u001b[0m\n\u001b[1;32m    206\u001b[0m                     \u001b[0;31m# ensure file doesn't get overriden when opened again\u001b[0m\u001b[0;34m\u001b[0m\u001b[0;34m\u001b[0m\u001b[0;34m\u001b[0m\u001b[0m\n",
      "\u001b[0;32mnetCDF4/_netCDF4.pyx\u001b[0m in \u001b[0;36mnetCDF4._netCDF4.Dataset.__init__\u001b[0;34m()\u001b[0m\n",
      "\u001b[0;32mnetCDF4/_netCDF4.pyx\u001b[0m in \u001b[0;36mnetCDF4._netCDF4._ensure_nc_success\u001b[0;34m()\u001b[0m\n",
      "\u001b[0;31mOSError\u001b[0m: [Errno -68] NetCDF: I/O failure: b'http://dapds00.nci.org.au/thredds/catalog/rr3/CMIP5/output1/CSIRO-BOM/ACCESS1-3/historical/day/ocean/day/r1i1p1/latest/tos/tos_day_ACCESS1-3_historical_r1i1p1_18500101_18591231.nc'"
     ]
    }
   ],
   "source": [
    "f3 = xr.open_mfdataset(files,decode_times=False)\n",
    "f3"
   ]
  },
  {
   "cell_type": "markdown",
   "metadata": {},
   "source": [
    "### File variables and attributes\n",
    "\n",
    "With xarray, you can easily view the dataset variables and attributes contained in the file by printing the loaded metadata"
   ]
  },
  {
   "cell_type": "code",
   "execution_count": null,
   "metadata": {},
   "outputs": [],
   "source": [
    "f1 = xr.open_dataset(path, decode_times=False)\n",
    "print(f1)"
   ]
  },
  {
   "cell_type": "markdown",
   "metadata": {},
   "source": [
    "### Dataset and DataArray\n",
    "\n",
    "In the above we have loaded the Dataset and you can see the multiple variables included in the file. If we look at a specific variable, like tasmax, we will get an xarray.DataArray with its coordinates."
   ]
  },
  {
   "cell_type": "code",
   "execution_count": null,
   "metadata": {},
   "outputs": [],
   "source": [
    "f1 = xr.open_dataset(path, decode_times=False)\n",
    "print(f1.tasmax)"
   ]
  },
  {
   "cell_type": "markdown",
   "metadata": {},
   "source": [
    "#### Print an attribute\n",
    "The attributes of a variable can be easily accessed using the `.<attribute>` command. So if we want to print the units of tasmax we could go:"
   ]
  },
  {
   "cell_type": "code",
   "execution_count": null,
   "metadata": {},
   "outputs": [],
   "source": [
    "f1.tasmax.units"
   ]
  },
  {
   "cell_type": "markdown",
   "metadata": {},
   "source": [
    "### Summary\n",
    "\n",
    "In this example, we show how to do access CMIP5 datasets on Gadi and through URL. The same approach applies to other data collections. Please visit [Xarray](http://xarray.pydata.org/en/stable/) for more information."
   ]
  }
 ],
 "metadata": {
  "anaconda-cloud": {},
  "kernelspec": {
   "display_name": "Python 3",
   "language": "python",
   "name": "python3"
  },
  "language_info": {
   "codemirror_mode": {
    "name": "ipython",
    "version": 3
   },
   "file_extension": ".py",
   "mimetype": "text/x-python",
   "name": "python",
   "nbconvert_exporter": "python",
   "pygments_lexer": "ipython3",
   "version": "3.7.4"
  }
 },
 "nbformat": 4,
 "nbformat_minor": 4
}
