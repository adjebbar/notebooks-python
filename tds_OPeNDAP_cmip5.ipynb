{
 "cells": [
  {
   "cell_type": "markdown",
   "metadata": {},
   "source": [
    "![logo](../../_static/images/NCI_logo.png)\n",
    "\n",
    "\n",
    "-------\n",
    "\n",
    "# THREDDS Data Server: OPeNDAP\n",
    "\n",
    "\n",
    "\n",
    "### In this notebook:\n",
    "\n",
    "- How to use OPeNDAP through NCI's THREDDS data server\n",
    "\n",
    "\n",
    "\n",
    "The following material uses Coupled Model Intercomparison Project (CMIP5) collections. The CMIP5 terms of use are found [here](https://cmip.llnl.gov/cmip5/terms.html). For more information on the collection, please [click here](https://geonetwork.nci.org.au/geonetwork/srv/eng/catalog.search#/metadata/f3525_9322_8600_7716).\n",
    "\n",
    "---------\n",
    "\n",
    "\n"
   ]
  },
  {
   "cell_type": "markdown",
   "metadata": {},
   "source": [
    "## Browse for data\n",
    "\n",
    "Begin by going to NCI's Geonetwork page: https://geonetwork.nci.org.au/\n",
    "\n",
    "This page contains the metadata records for NCI Data Collections as well as information on where to find the data. \n",
    "\n",
    "![gn1](images/gn1_cmip5.png)\n",
    "\n",
    "In this example, we will search for CMIP data, the records whose title includes CMIP will pop up immediately:\n",
    "\n",
    "![gn2](images/gn2_cmip5.png)\n",
    "\n",
    "If we click on one of the CMIP dataset, we see a brief overview of the metadata record. **Note:** For the full record, navigate to the upper-right corner of your browser to change to the \"Full view\" (eyeball icon). \n",
    "\n",
    "Now lets click on the NCI THREDDS data server link under **Download and links**:\n",
    "\n",
    "![gn3](images/gn3_cmip5.png)\n",
    "\n",
    "By navigating to this link, the available (public) data subcollections and datasets will be visible:\n",
    "\n",
    "![dd1](images/tds_dd1_cmip5.png)\n",
    "\n",
    "\n",
    "In this example, let's navigate to the ** Monthly sea_surface_temperature in 1pctCO2 ** dataset and click on the file:\n",
    "\n",
    "![dd2](images/tds_dd2_cmip5.png)\n"
   ]
  },
  {
   "cell_type": "markdown",
   "metadata": {
    "collapsed": true
   },
   "source": [
    "### OPeNDAP\n",
    "\n",
    "\n",
    "#### First, select the file. On the THREDDS catalog page for the file, click the link titled:  `OPeNDAP`\n",
    "\n",
    "\n",
    "![1](images/opendap1_cmip5.png)\n",
    "\n",
    "\n",
    "\n",
    "#### This will direct to the `OPeNDAP Dataset Access Form`\n",
    "\n",
    "This page will list information on the file contents, including file metadata and variables. Each variable will also contain a list of variable-level metadata (or attributes).  \n",
    "\n",
    "![2](images/opendap2_cmip5.png)\n",
    "\n",
    "\n",
    "#### Request subset in ASCII format:\n",
    "\n",
    "1. To request a subset with the OPeNDAP Dataset Access Form, begin by selecting the desired subset. \n",
    "\n",
    "2. To select a variable: \n",
    "\n",
    "   - Tick the box to the left of the variable name \n",
    "   \n",
    "   - Provide subset range for each dimension of the variable\n",
    "\n",
    "![3](images/opendap3_cmip5.png)\n",
    "\n",
    "\n",
    "3. Navigate to the top of the page and select \"Get ASCII\"\n",
    "\n",
    "![4](images/opendap4_cmip5.png)\n",
    "\n",
    "\n",
    "4. This should return the subset in a new window that can be copied/pasted or saved as a new file. \n",
    "\n",
    "![5](images/opendap5_cmip5.png)"
   ]
  },
  {
   "cell_type": "markdown",
   "metadata": {
    "collapsed": true
   },
   "source": [
    "### Use OPeNDAP for remote data access with Python\n",
    "\n",
    "1. Return to the OPeNDAP Dataset Access Form page\n",
    "\n",
    "2. Copy the URL in the field titled \"Data URL\"\n",
    "\n",
    "![6](images/opendap6_cmip5.png)\n",
    "\n",
    "3. This URL can be used in the same manner as the path to a local file within many tools and services. Examples of this will be covered in later sections.\n",
    "\n"
   ]
  }
 ],
 "metadata": {
  "anaconda-cloud": {},
  "kernelspec": {
   "display_name": "Python 3",
   "language": "python",
   "name": "python3"
  },
  "language_info": {
   "codemirror_mode": {
    "name": "ipython",
    "version": 3
   },
   "file_extension": ".py",
   "mimetype": "text/x-python",
   "name": "python",
   "nbconvert_exporter": "python",
   "pygments_lexer": "ipython3",
   "version": "3.7.3"
  }
 },
 "nbformat": 4,
 "nbformat_minor": 1
}
