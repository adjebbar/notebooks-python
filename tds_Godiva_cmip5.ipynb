{
 "cells": [
  {
   "cell_type": "markdown",
   "metadata": {
    "nbpresent": {
     "id": "2e8a6120-1bbd-4e36-ad77-ff9899d8d453"
    }
   },
   "source": [
    "![logo](../../_static/images/NCI_logo.png)\n",
    "\n",
    "\n",
    "-------\n",
    "\n",
    "# THREDDS Data Server: Godiva ncWMS Viewer\n"
   ]
  },
  {
   "cell_type": "markdown",
   "metadata": {
    "nbpresent": {
     "id": "5d28f705-eb76-4867-8911-59b714a8d664"
    }
   },
   "source": [
    "### In this notebook:\n",
    "\n",
    "- How to use the Godiva ncWMS viewer on NCI's THREDDS data server\n",
    "\n",
    "- How to make animation using Godiva \n",
    "\n",
    "The following material uses Coupled Model Intercomparison Project (CMIP5) collections. The CMIP5 terms of use are found [here](https://cmip.llnl.gov/cmip5/terms.html). For more information on the collection, please [click here](https://geonetwork.nci.org.au/geonetwork/srv/eng/catalog.search#/metadata/f3525_9322_8600_7716).\n",
    "\n",
    "---------\n",
    "\n"
   ]
  },
  {
   "cell_type": "markdown",
   "metadata": {},
   "source": [
    "### Browse for data\n",
    "\n",
    "Begin by going to NCI's Geonetwork page: https://geonetwork.nci.org.au/\n",
    "\n",
    "This page contains the metadata records for NCI Data Collections as well as information on where to find the data. \n",
    "\n",
    "![1](images/gn1_cmip5.png)\n",
    "\n",
    "In this example, we will search for CMIP data, the records whose title includes CMIP will pop up immediately:\n",
    "\n",
    "![2](images/gn2_cmip5.png)\n",
    "\n",
    "If we click on one of the CMIP dataset, we see a brief overview of the metadata record. **Note:** For the full record, navigate to the upper-right corner of your browser to change to the \"Full view\" (eyeball icon). \n",
    "\n",
    "Now lets click on the NCI THREDDS data server link under **Download and links**:\n",
    "\n",
    "![3](images/gn3_cmip5.png)\n",
    "\n",
    "By navigating to this link, the available (public) data subcollections and datasets will be visible:\n",
    "\n",
    "![dd1](images/tds_dd1_cmip5.png)\n",
    "\n",
    "\n",
    "In this example, let's navigate to the ** Monthly sea_surface_temperature in 1pctCO2 ** dataset and click on the file:\n",
    "\n",
    "![dd2](images/tds_dd2_cmip5.png)\n"
   ]
  },
  {
   "cell_type": "markdown",
   "metadata": {
    "nbpresent": {
     "id": "6547ef84-305d-4058-835a-e5148758f4d1"
    }
   },
   "source": [
    "### Using Godiva \n",
    "\n",
    "Under `Viewers`, click on the `Godiva2` link\n",
    "\n",
    "![g1](images/godiva1_cmip5.png)\n",
    "\n",
    "\n",
    "This will direct to the Godiva viewer\n",
    "\n",
    "![g2](images/godiva2_cmip5.png)\n",
    "\n",
    "Expand the dataset\n",
    "\n",
    "![g3](images/godiva3_cmip5.png)\n",
    "\n",
    "\n",
    "Select a variable (or subdataset)\n",
    "\n",
    "![g4](images/godiva4_cmip5.png)\n",
    "\n",
    "\n",
    "**If time is a dimensions, a time step can be selected.** \n",
    "**Note:** The default colorscale may not be appropriate for the dataset. These can be modified to the right of the viewer, or choose **auto lock** option to automatically scale the colour.\n",
    "\n",
    "\n",
    "![g5](images/godiva5_cmip5.png)\n",
    "\n",
    "\n",
    "**To change the default colormap, left-click on the colorbar**\n",
    "\n",
    "![g6](images/godiva6_cmip5.png)"
   ]
  },
  {
   "cell_type": "markdown",
   "metadata": {
    "nbpresent": {
     "id": "db0cd9ed-c345-4a3c-973b-c1f8ce45f185"
    }
   },
   "source": [
    "## Making animations\n",
    "\n",
    "Try using Godiva to view and make an animation with another dataset (example below).\n",
    "\n",
    "http://dapds00.nci.org.au/thredds/catalog/fx3/gbr4_v2/catalog.html?dataset=fx3-gbr4_v2/gbr4_simple_2016-10.nc\n",
    "\n",
    "![g7](images/godiva7_cmip5.png)\n",
    "\n",
    "<b>Hint:</b> To make an animation, navigate to the point in time you would like the animation to start and select \"first frame\". Do the same for the point in time you would like to be the \"last frame\". Then select \"Create Animation\". BUT be careful not to create an animation with too many time steps. Keep it less than 100 frames to start with. \n",
    "\n"
   ]
  }
 ],
 "metadata": {
  "anaconda-cloud": {},
  "kernelspec": {
   "display_name": "Python 3",
   "language": "python",
   "name": "python3"
  },
  "language_info": {
   "codemirror_mode": {
    "name": "ipython",
    "version": 3
   },
   "file_extension": ".py",
   "mimetype": "text/x-python",
   "name": "python",
   "nbconvert_exporter": "python",
   "pygments_lexer": "ipython3",
   "version": "3.7.3"
  },
  "nbpresent": {
   "slides": {},
   "themes": {
    "default": "209f9791-0aee-4bba-bfb7-90f66166591b",
    "theme": {
     "209f9791-0aee-4bba-bfb7-90f66166591b": {
      "backgrounds": {
       "backgroundColor": {
        "background-color": "backgroundColor",
        "id": "backgroundColor"
       }
      },
      "id": "209f9791-0aee-4bba-bfb7-90f66166591b",
      "palette": {
       "backgroundColor": {
        "id": "backgroundColor",
        "rgb": [
         43,
         43,
         43
        ]
       },
       "headingColor": {
        "id": "headingColor",
        "rgb": [
         238,
         238,
         238
        ]
       },
       "linkColor": {
        "id": "linkColor",
        "rgb": [
         19,
         218,
         236
        ]
       },
       "mainColor": {
        "id": "mainColor",
        "rgb": [
         238,
         238,
         238
        ]
       }
      },
      "rules": {
       "a": {
        "color": "linkColor"
       },
       "h1": {
        "color": "headingColor",
        "font-family": "Oswald",
        "font-size": 7
       },
       "h2": {
        "color": "headingColor",
        "font-family": "Oswald",
        "font-size": 5
       },
       "h3": {
        "color": "headingColor",
        "font-family": "Oswald",
        "font-size": 3.75
       },
       "h4": {
        "color": "headingColor",
        "font-family": "Oswald",
        "font-size": 3
       },
       "h5": {
        "color": "headingColor",
        "font-family": "Oswald"
       },
       "h6": {
        "color": "headingColor",
        "font-family": "Oswald"
       },
       "h7": {
        "color": "headingColor",
        "font-family": "Oswald"
       },
       "li": {
        "color": "mainColor",
        "font-family": "Lato",
        "font-size": 5
       },
       "p": {
        "color": "mainColor",
        "font-family": "Lato",
        "font-size": 5
       }
      },
      "text-base": {
       "color": "mainColor",
       "font-family": "Lato",
       "font-size": 5
      }
     },
     "f30cb657-2eb8-44d7-a3c8-5f20ebb1d166": {
      "id": "f30cb657-2eb8-44d7-a3c8-5f20ebb1d166",
      "palette": {
       "19cc588f-0593-49c9-9f4b-e4d7cc113b1c": {
        "id": "19cc588f-0593-49c9-9f4b-e4d7cc113b1c",
        "rgb": [
         252,
         252,
         252
        ]
       },
       "31af15d2-7e15-44c5-ab5e-e04b16a89eff": {
        "id": "31af15d2-7e15-44c5-ab5e-e04b16a89eff",
        "rgb": [
         68,
         68,
         68
        ]
       },
       "50f92c45-a630-455b-aec3-788680ec7410": {
        "id": "50f92c45-a630-455b-aec3-788680ec7410",
        "rgb": [
         155,
         177,
         192
        ]
       },
       "c5cc3653-2ee1-402a-aba2-7caae1da4f6c": {
        "id": "c5cc3653-2ee1-402a-aba2-7caae1da4f6c",
        "rgb": [
         43,
         126,
         184
        ]
       },
       "efa7f048-9acb-414c-8b04-a26811511a21": {
        "id": "efa7f048-9acb-414c-8b04-a26811511a21",
        "rgb": [
         25.118061674008803,
         73.60176211453744,
         107.4819383259912
        ]
       }
      },
      "rules": {
       "blockquote": {
        "color": "50f92c45-a630-455b-aec3-788680ec7410"
       },
       "code": {
        "font-family": "Anonymous Pro"
       },
       "h1": {
        "color": "c5cc3653-2ee1-402a-aba2-7caae1da4f6c",
        "font-family": "Lato",
        "font-size": 8
       },
       "h2": {
        "color": "c5cc3653-2ee1-402a-aba2-7caae1da4f6c",
        "font-family": "Lato",
        "font-size": 6
       },
       "h3": {
        "color": "50f92c45-a630-455b-aec3-788680ec7410",
        "font-family": "Lato",
        "font-size": 5.5
       },
       "h4": {
        "color": "c5cc3653-2ee1-402a-aba2-7caae1da4f6c",
        "font-family": "Lato",
        "font-size": 5
       },
       "h5": {
        "font-family": "Lato"
       },
       "h6": {
        "font-family": "Lato"
       },
       "h7": {
        "font-family": "Lato"
       },
       "pre": {
        "font-family": "Anonymous Pro",
        "font-size": 4
       }
      },
      "text-base": {
       "font-family": "Merriweather",
       "font-size": 4
      }
     }
    }
   }
  }
 },
 "nbformat": 4,
 "nbformat_minor": 1
}
