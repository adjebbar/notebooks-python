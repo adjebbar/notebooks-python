{
 "cells": [
  {
   "cell_type": "markdown",
   "metadata": {},
   "source": [
    "# CDO Ocean/Land Mask\n",
    "\n",
    "\n",
    "In this notebook we demonstrate how to mask ocean or land:\n",
    "\n",
    "- Load CDO module\n",
    "- Look at the data information\n",
    "- Visualise data using ncview \n",
    "- Create land and ocean masks to limit the field to land/ocean values \n",
    "\n",
    "This example uses Coupled Model Intercomparison Project (CMIP6) collections. For more information, please visit [data catalogue]( https://geonetwork.nci.org.au/geonetwork/srv/eng/catalog.search#/metadata/f6600_2266_8675_3563) and [terms of use]( https://pcmdi.llnl.gov/CMIP6/TermsOfUse/TermsOfUse6-1.html).\n",
    "\n",
    "---"
   ]
  },
  {
   "cell_type": "markdown",
   "metadata": {},
   "source": [
    "- Authors: NCI Virtual Research Environment Team\n",
    "- Keywords: CMIP, CDO, land mask, ocean mask\n",
    "- Create Date: 2019-Dec; Update Date: 2020-Apr"
   ]
  },
  {
   "cell_type": "markdown",
   "metadata": {},
   "source": [
    "### Prerequisite\n",
    "\n",
    "To run this notebook on Gadi/VDI, the following module is needed:\n",
    "\n",
    "* CDO\n",
    "\n",
    "You also need to be a member of the following data project to access the data:\n",
    "* oi10\n",
    "\n",
    "You can request to join the project through [NCI's user account management system](https://my.nci.org.au). "
   ]
  },
  {
   "cell_type": "markdown",
   "metadata": {},
   "source": [
    "## What is CDO?\n",
    "\n",
    "CDO stands for \"Cliamte Data Operators\". CDO is a collection of command line Operators to manipulate and analyse Climate and NWP model Data. It support data formats: GRIB 1/2, netCDF 3/4, SERVICE, EXTRA and IEG. There are more than 600 operators available. See [CDO's homepage](https://code.mpimet.mpg.de/projects/cdo) for more information about this library."
   ]
  },
  {
   "cell_type": "markdown",
   "metadata": {},
   "source": [
    "### Load CDO module "
   ]
  },
  {
   "cell_type": "markdown",
   "metadata": {},
   "source": [
    "```\n",
    "$ module load cdo\n",
    "```"
   ]
  },
  {
   "cell_type": "markdown",
   "metadata": {},
   "source": [
    "### List the path of the CMIP6 data"
   ]
  },
  {
   "cell_type": "markdown",
   "metadata": {},
   "source": [
    "Here we will be using CMIP6 data as an example. \n",
    "\n",
    "```\n",
    "$ ls /g/data/oi10/replicas/CMIP6/CMIP/NCAR/CESM2/historical/r1i1p1f1/Amon/tas/gn/v20190308/tas_Amon_CESM2_historical_r1i1p1f1_gn_185001-201412.nc\n",
    "```\n",
    "This file includes the near surface temperature from the 20th century all-forcing historical simulation based on the CESM2.0 model of NCAR. "
   ]
  },
  {
   "cell_type": "markdown",
   "metadata": {},
   "source": [
    "### Have a look at the data file using cdo info"
   ]
  },
  {
   "cell_type": "markdown",
   "metadata": {},
   "source": [
    "Basic usage: **cdo info filename | less**\n",
    "\n",
    "```\n",
    "$ cdo info /g/data/oi10/replicas/CMIP6/CMIP/NCAR/CESM2/historical/r1i1p1f1/Amon/tas/gn/v20190308/tas_Amon_CESM2_historical_r1i1p1f1_gn_185001-201412.nc | less\n",
    "```\n",
    "\n",
    "**less** display only one page at a time in the terminal. You can move forwards and backwards to see more. Press **q** to quit the view."
   ]
  },
  {
   "cell_type": "markdown",
   "metadata": {},
   "source": [
    "![1](images/cdo_anomoly_nino1.png)"
   ]
  },
  {
   "cell_type": "markdown",
   "metadata": {},
   "source": [
    "Use **ncview** to show the data:\n",
    "```\n",
    "$ ncview /g/data/oi10/replicas/CMIP6/CMIP/NCAR/CESM2/historical/r1i1p1f1/Amon/tas/gn/v20190308/tas_Amon_CESM2_historical_r1i1p1f1_gn_185001-201412.nc\n",
    "```\n",
    "\n",
    "The data looks like this "
   ]
  },
  {
   "cell_type": "markdown",
   "metadata": {},
   "source": [
    "![1](images/cdo_anomoly_nino3.png)"
   ]
  },
  {
   "cell_type": "markdown",
   "metadata": {},
   "source": [
    "### Let's see which year this file includes"
   ]
  },
  {
   "cell_type": "markdown",
   "metadata": {},
   "source": [
    "We use function **showyear** to display all the years in this file\n",
    "\n",
    "**Basic usage**: **cdo showyear file**\n",
    "```\n",
    "$ cdo showyear /g/data/oi10/replicas/CMIP6/CMIP/NCAR/CESM2/historical/r1i1p1f1/Amon/tas/gn/v20190308/tas_Amon_CESM2_historical_r1i1p1f1_gn_185001-201412.nc\n",
    "```"
   ]
  },
  {
   "cell_type": "markdown",
   "metadata": {},
   "source": [
    "![2](images/cdo_anomoly_nino2.png)"
   ]
  },
  {
   "cell_type": "markdown",
   "metadata": {},
   "source": [
    "### Create topography data "
   ]
  },
  {
   "cell_type": "markdown",
   "metadata": {},
   "source": [
    "```\n",
    "$ cdo -f nc topo topo.nc\n",
    "```\n",
    "The operator topo creates a half degree regular grid with the heights and depths. This can be very useful for generating masks to a certain height/depth.\n",
    "\n",
    "The created topo.nc file is shown below. Here in the topo.nc file, the topography values over land areas are greater than 0 whereas over ocean areas the topography is less than 0.\n"
   ]
  },
  {
   "cell_type": "markdown",
   "metadata": {},
   "source": [
    "![3](images/cdo_mask1.png)"
   ]
  },
  {
   "cell_type": "markdown",
   "metadata": {},
   "source": [
    "### Create ocean mask file"
   ]
  },
  {
   "cell_type": "markdown",
   "metadata": {},
   "source": [
    "**Basic usage**: **cdo gtc, 0 -remapcon, input.nc topo.nc output.nc**\n",
    "\n",
    "\n",
    "There are several steps involved in here:\n",
    "\n",
    "First, remapping topo.nc file to change its resolution so that it is consistent with the input data that we use: **cdo remapcon, input.nc topo.nc output.nc**\n",
    "\n",
    "```\n",
    "$ cdo -remapcon,/g/data/oi10/replicas/CMIP6/CMIP/NCAR/CESM2/historical/r1i1p1f1/Amon/tas/gn/v20190308/tas_Amon_CESM2_historical_r1i1p1f1_gn_185001-201412.nc topo.nc topo_adjusted.nc\n",
    "```\n",
    "\n",
    "Second, create a mask containing 1 if the topography element is greater than 0: **cdo gtc,0 input.nc output.nc**\n",
    "```\n",
    "$ cdo gtc,0 topo_adjusted.nc seamask.nc\n",
    "```"
   ]
  },
  {
   "cell_type": "markdown",
   "metadata": {},
   "source": [
    "### Now we will try to chain all the commands together"
   ]
  },
  {
   "cell_type": "markdown",
   "metadata": {},
   "source": [
    "**Basic Usage: cdo -f nc -gtc, 0 -remapcon, input.nc -topo output.nc**\n",
    "```\n",
    "$ cdo -f nc  -gtc,0  -remapcon,/g/data/oi10/replicas/CMIP6/CMIP/NCAR/CESM2/historical/r1i1p1f1/Amon/tas/gn/v20190308/tas_Amon_CESM2_historical_r1i1p1f1_gn_185001-201412.nc -topo seamask.nc\n",
    "```"
   ]
  },
  {
   "cell_type": "markdown",
   "metadata": {},
   "source": [
    "### Similarly, we can get land mask using the following commands"
   ]
  },
  {
   "cell_type": "markdown",
   "metadata": {},
   "source": [
    "```\n",
    "cdo -f nc  -lec,0  -remapcon,/g/data/oi10/replicas/CMIP6/CMIP/NCAR/CESM2/historical/r1i1p1f1/Amon/tas/gn/v20190308/tas_Amon_CESM2_historical_r1i1p1f1_gn_185001-201412.nc -topo landmask.nc\n",
    "```"
   ]
  },
  {
   "cell_type": "markdown",
   "metadata": {},
   "source": [
    "### Let's have a look at what the generated seamask.nc looks like"
   ]
  },
  {
   "cell_type": "markdown",
   "metadata": {},
   "source": [
    "```\n",
    "$ module load ncview\n",
    "$ ncview seamask.nc\n",
    "```"
   ]
  },
  {
   "cell_type": "markdown",
   "metadata": {},
   "source": [
    "![4](images/cdo_mask2.png)"
   ]
  },
  {
   "cell_type": "markdown",
   "metadata": {},
   "source": [
    "Now we get a topography file where all ocean values are 0 and land values are 1."
   ]
  },
  {
   "cell_type": "markdown",
   "metadata": {},
   "source": [
    "### Now we can apply the seamask to the original data to mask out ocean data"
   ]
  },
  {
   "cell_type": "markdown",
   "metadata": {},
   "source": [
    "Multiply input.nc and seamask, and the ocean values in output.nc become all 0.\n",
    "\n",
    "**cdo mul input.nc seamask.nc output.nc**\n",
    "\n",
    "Set 0 as missing value in the data:\n",
    "\n",
    "**cdo setmissval, 0 input.nc output.nc**\n",
    "\n",
    "\n",
    "To combine these two commands together:\n",
    "\n",
    "**cdo setmissval, 0 -mul input.nc seamask.nc output.nc**\n",
    "``` \n",
    "$ cdo setmissval,0 -mul /g/data/oi10/replicas/CMIP6/CMIP/NCAR/CESM2/historical/r1i1p1f1/Amon/tas/gn/v20190308/tas_Amon_CESM2_historical_r1i1p1f1_gn_185001-201412.nc seamask.nc tas_Amon_CESM2_historical_r1i1p1f1_gn_185001-201412_land.nc\n",
    "```\n",
    "\n",
    "Warning: Be cautious when using 0 as the missing value in case that 0 has already been used as a reasonable element in the original data. In this example though, the data use Kelvin(K) as the unit of temperature, therefore using 0 as the missing value is not an issue because 0 cannot be a reasonable earth near surface temperature."
   ]
  },
  {
   "cell_type": "markdown",
   "metadata": {},
   "source": [
    "### Let's have a look at the new land data file"
   ]
  },
  {
   "cell_type": "markdown",
   "metadata": {},
   "source": [
    "```\n",
    "$ ncview tas_Amon_CESM2_historical_r1i1p1f1_gn_185001-201412_land.nc\n",
    "```"
   ]
  },
  {
   "cell_type": "markdown",
   "metadata": {},
   "source": [
    "![5](images/cdo_mask3.png)"
   ]
  },
  {
   "cell_type": "markdown",
   "metadata": {},
   "source": [
    "### Summary\n",
    "\n",
    "In this example, we show how to use CDO to create land/ocean mask when we only need to visualize the ocean/land data.\n",
    "\n",
    "## Reference\n",
    "\n",
    "https://code.zmaw.de/projects/cdo/embedded/cdo.pdf\n"
   ]
  }
 ],
 "metadata": {
  "kernelspec": {
   "display_name": "Python 3",
   "language": "python",
   "name": "python3"
  },
  "language_info": {
   "codemirror_mode": {
    "name": "ipython",
    "version": 3
   },
   "file_extension": ".py",
   "mimetype": "text/x-python",
   "name": "python",
   "nbconvert_exporter": "python",
   "pygments_lexer": "ipython3",
   "version": "3.7.4"
  }
 },
 "nbformat": 4,
 "nbformat_minor": 4
}
